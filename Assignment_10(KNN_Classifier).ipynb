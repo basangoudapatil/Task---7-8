{
  "nbformat": 4,
  "nbformat_minor": 0,
  "metadata": {
    "colab": {
      "provenance": [],
      "authorship_tag": "ABX9TyPVIVpUuTs8iLkQ70wu8mWO",
      "include_colab_link": true
    },
    "kernelspec": {
      "name": "python3",
      "display_name": "Python 3"
    },
    "language_info": {
      "name": "python"
    }
  },
  "cells": [
    {
      "cell_type": "markdown",
      "metadata": {
        "id": "view-in-github",
        "colab_type": "text"
      },
      "source": [
        "<a href=\"https://colab.research.google.com/github/basangoudapatil/Task---7-8/blob/main/Assignment_10(KNN_Classifier).ipynb\" target=\"_parent\"><img src=\"https://colab.research.google.com/assets/colab-badge.svg\" alt=\"Open In Colab\"/></a>"
      ]
    },
    {
      "cell_type": "markdown",
      "source": [
        "You are provided with a dataset from USA Forensic Science Service\n",
        "which has description of 6 types of glass; defined in terms of their\n",
        "oxide content (i.e. Na, Fe, K, etc). Your task is to use K-Nearest\n",
        "Neighbor (KNN) classifier to classify the glasses.\n",
        "\n",
        "The original dataset is available at\n",
        "(https://archive.ics.uci.edu/ml/datasets/glass+identification). \n",
        "\n",
        "For\n",
        "detailed description on the attributes of the dataset,\n",
        "please refer to the original link of the dataset in the UCI ML\n",
        "repository.\n",
        "\n",
        "Perform exploratory data analysis on the dataset using Python Pandas,\n",
        "including dropping irrelevant fields for predicted values, and\n",
        "standardization of each attribute.\n",
        "Following data cleaning, two Scikit-Learn KNN models should be created\n",
        "for two different distance metrics: Square Euclidean and Manhattan\n",
        "distance. The performance of the two models using different distance\n",
        "metrics should be compared in terms of accuracy to the test data and\n",
        "Scikit-Learn Classification Report."
      ],
      "metadata": {
        "id": "Pc9JO4YpsuHH"
      }
    },
    {
      "cell_type": "code",
      "execution_count": 1,
      "metadata": {
        "id": "vw5N_qUKenu2"
      },
      "outputs": [],
      "source": [
        "import pandas as pd\n",
        "import numpy as np"
      ]
    },
    {
      "cell_type": "code",
      "source": [
        "train = pd.read_csv('/content/trainKNN.txt', header = None)\n",
        "train.columns = ['ID','RI','Na','Mg','Al','Si','K','Ca','Ba','Fe', 'Type of Glass']\n",
        "test = pd.read_csv('/content/testKNN.txt', header = None)\n",
        "test.columns = ['ID','RI','Na','Mg','Al','Si','K','Ca','Ba','Fe', 'Type of Glass']"
      ],
      "metadata": {
        "id": "O9r7MH39lH6w"
      },
      "execution_count": 12,
      "outputs": []
    },
    {
      "cell_type": "markdown",
      "source": [
        "Train Dataset"
      ],
      "metadata": {
        "id": "rknIGFFHryuk"
      }
    },
    {
      "cell_type": "code",
      "source": [
        "train = train.drop('ID', axis=1)\n",
        "print(train.head())"
      ],
      "metadata": {
        "colab": {
          "base_uri": "https://localhost:8080/"
        },
        "id": "LazrTWm_mKTc",
        "outputId": "16dd1dc4-6350-44c9-a7f3-28d7b363cdb5"
      },
      "execution_count": 18,
      "outputs": [
        {
          "output_type": "stream",
          "name": "stdout",
          "text": [
            "        RI     Na    Mg    Al     Si     K    Ca   Ba   Fe  Type of Glass\n",
            "0  1.52101  13.64  4.49  1.10  71.78  0.06  8.75  0.0  0.0              1\n",
            "1  1.51761  13.89  3.60  1.36  72.73  0.48  7.83  0.0  0.0              1\n",
            "2  1.51618  13.53  3.55  1.54  72.99  0.39  7.78  0.0  0.0              1\n",
            "3  1.51766  13.21  3.69  1.29  72.61  0.57  8.22  0.0  0.0              1\n",
            "4  1.51742  13.27  3.62  1.24  73.08  0.55  8.07  0.0  0.0              1\n"
          ]
        }
      ]
    },
    {
      "cell_type": "code",
      "source": [
        "train.isnull().sum()"
      ],
      "metadata": {
        "colab": {
          "base_uri": "https://localhost:8080/"
        },
        "id": "pmIDr8Q-eQgn",
        "outputId": "cea0fe6c-1bfa-4b8a-b542-a749491a9459"
      },
      "execution_count": 44,
      "outputs": [
        {
          "output_type": "execute_result",
          "data": {
            "text/plain": [
              "RI               0\n",
              "Na               0\n",
              "Mg               0\n",
              "Al               0\n",
              "Si               0\n",
              "K                0\n",
              "Ca               0\n",
              "Ba               0\n",
              "Fe               0\n",
              "Type of Glass    0\n",
              "dtype: int64"
            ]
          },
          "metadata": {},
          "execution_count": 44
        }
      ]
    },
    {
      "cell_type": "markdown",
      "source": [
        "Test Dataset"
      ],
      "metadata": {
        "id": "ZeRYwncPr1jC"
      }
    },
    {
      "cell_type": "code",
      "source": [
        "test = test.drop('ID', axis=1)\n",
        "print(test.head())"
      ],
      "metadata": {
        "colab": {
          "base_uri": "https://localhost:8080/"
        },
        "id": "cgBOOidPmOdi",
        "outputId": "7ed4b36e-83d2-47b5-cfc9-d63e41559da2"
      },
      "execution_count": 19,
      "outputs": [
        {
          "output_type": "stream",
          "name": "stdout",
          "text": [
            "        RI     Na    Mg    Al     Si     K     Ca   Ba    Fe  Type of Glass\n",
            "0  1.52152  13.05  3.65  0.87  72.32  0.19   9.85  0.0  0.17              1\n",
            "1  1.52152  13.12  3.58  0.90  72.20  0.23   9.82  0.0  0.16              1\n",
            "2  1.52300  13.31  3.58  0.82  71.99  0.12  10.17  0.0  0.03              1\n",
            "3  1.51709  13.00  3.47  1.79  72.72  0.66   8.18  0.0  0.00              2\n",
            "4  1.51660  12.99  3.18  1.23  72.97  0.58   8.81  0.0  0.24              2\n"
          ]
        }
      ]
    },
    {
      "cell_type": "code",
      "source": [
        "test.isnull().sum()"
      ],
      "metadata": {
        "colab": {
          "base_uri": "https://localhost:8080/"
        },
        "id": "TWIgoHhheUsH",
        "outputId": "127e7558-d10a-4fc9-e4b9-4e5deab0ed22"
      },
      "execution_count": 45,
      "outputs": [
        {
          "output_type": "execute_result",
          "data": {
            "text/plain": [
              "RI               0\n",
              "Na               0\n",
              "Mg               0\n",
              "Al               0\n",
              "Si               0\n",
              "K                0\n",
              "Ca               0\n",
              "Ba               0\n",
              "Fe               0\n",
              "Type of Glass    0\n",
              "dtype: int64"
            ]
          },
          "metadata": {},
          "execution_count": 45
        }
      ]
    },
    {
      "cell_type": "code",
      "source": [
        "train['Type of Glass'].value_counts()"
      ],
      "metadata": {
        "colab": {
          "base_uri": "https://localhost:8080/"
        },
        "id": "mCXd0OT1mjYn",
        "outputId": "9ccceeb9-e2e2-4903-d188-05356da6d248"
      },
      "execution_count": 23,
      "outputs": [
        {
          "output_type": "execute_result",
          "data": {
            "text/plain": [
              "2    73\n",
              "1    67\n",
              "7    26\n",
              "3    14\n",
              "5    10\n",
              "6     6\n",
              "Name: Type of Glass, dtype: int64"
            ]
          },
          "metadata": {},
          "execution_count": 23
        }
      ]
    },
    {
      "cell_type": "code",
      "source": [
        "test['Type of Glass'].value_counts()"
      ],
      "metadata": {
        "colab": {
          "base_uri": "https://localhost:8080/"
        },
        "id": "0J-6ghODmuJe",
        "outputId": "71208a47-f840-467e-bee4-1c64e2ae4503"
      },
      "execution_count": 21,
      "outputs": [
        {
          "output_type": "execute_result",
          "data": {
            "text/plain": [
              "1    3\n",
              "2    3\n",
              "3    3\n",
              "5    3\n",
              "6    3\n",
              "7    3\n",
              "Name: Type of Glass, dtype: int64"
            ]
          },
          "metadata": {},
          "execution_count": 21
        }
      ]
    },
    {
      "cell_type": "markdown",
      "source": [
        "Understanding the Data"
      ],
      "metadata": {
        "id": "sMuauIUJr5Zn"
      }
    },
    {
      "cell_type": "code",
      "source": [
        "train.describe()"
      ],
      "metadata": {
        "colab": {
          "base_uri": "https://localhost:8080/",
          "height": 300
        },
        "id": "LvgtoNpJm68v",
        "outputId": "716db2d4-db6a-4158-f07a-cf75290b07c0"
      },
      "execution_count": 24,
      "outputs": [
        {
          "output_type": "execute_result",
          "data": {
            "text/plain": [
              "               RI          Na          Mg          Al          Si           K  \\\n",
              "count  196.000000  196.000000  196.000000  196.000000  196.000000  196.000000   \n",
              "mean     1.518295   13.375204    2.758980    1.454337   72.635408    0.519388   \n",
              "std      0.003055    0.783145    1.392641    0.491688    0.763578    0.672703   \n",
              "min      1.511310   10.730000    0.000000    0.290000   69.810000    0.000000   \n",
              "25%      1.516458   12.877500    2.362500    1.190000   72.317500    0.140000   \n",
              "50%      1.517630   13.280000    3.480000    1.360000   72.810000    0.560000   \n",
              "75%      1.518985   13.792500    3.610000    1.622500   73.080000    0.610000   \n",
              "max      1.533930   15.790000    4.490000    3.500000   75.180000    6.210000   \n",
              "\n",
              "               Ca          Ba          Fe  Type of Glass  \n",
              "count  196.000000  196.000000  196.000000     196.000000  \n",
              "mean     8.910714    0.164235    0.050255       2.668367  \n",
              "std      1.421490    0.485198    0.086359       2.062416  \n",
              "min      5.430000    0.000000    0.000000       1.000000  \n",
              "25%      8.220000    0.000000    0.000000       1.000000  \n",
              "50%      8.575000    0.000000    0.000000       2.000000  \n",
              "75%      9.092500    0.000000    0.090000       3.000000  \n",
              "max     16.190000    3.150000    0.340000       7.000000  "
            ],
            "text/html": [
              "\n",
              "  <div id=\"df-295c9d44-3afc-4740-a1fc-8856359156fd\">\n",
              "    <div class=\"colab-df-container\">\n",
              "      <div>\n",
              "<style scoped>\n",
              "    .dataframe tbody tr th:only-of-type {\n",
              "        vertical-align: middle;\n",
              "    }\n",
              "\n",
              "    .dataframe tbody tr th {\n",
              "        vertical-align: top;\n",
              "    }\n",
              "\n",
              "    .dataframe thead th {\n",
              "        text-align: right;\n",
              "    }\n",
              "</style>\n",
              "<table border=\"1\" class=\"dataframe\">\n",
              "  <thead>\n",
              "    <tr style=\"text-align: right;\">\n",
              "      <th></th>\n",
              "      <th>RI</th>\n",
              "      <th>Na</th>\n",
              "      <th>Mg</th>\n",
              "      <th>Al</th>\n",
              "      <th>Si</th>\n",
              "      <th>K</th>\n",
              "      <th>Ca</th>\n",
              "      <th>Ba</th>\n",
              "      <th>Fe</th>\n",
              "      <th>Type of Glass</th>\n",
              "    </tr>\n",
              "  </thead>\n",
              "  <tbody>\n",
              "    <tr>\n",
              "      <th>count</th>\n",
              "      <td>196.000000</td>\n",
              "      <td>196.000000</td>\n",
              "      <td>196.000000</td>\n",
              "      <td>196.000000</td>\n",
              "      <td>196.000000</td>\n",
              "      <td>196.000000</td>\n",
              "      <td>196.000000</td>\n",
              "      <td>196.000000</td>\n",
              "      <td>196.000000</td>\n",
              "      <td>196.000000</td>\n",
              "    </tr>\n",
              "    <tr>\n",
              "      <th>mean</th>\n",
              "      <td>1.518295</td>\n",
              "      <td>13.375204</td>\n",
              "      <td>2.758980</td>\n",
              "      <td>1.454337</td>\n",
              "      <td>72.635408</td>\n",
              "      <td>0.519388</td>\n",
              "      <td>8.910714</td>\n",
              "      <td>0.164235</td>\n",
              "      <td>0.050255</td>\n",
              "      <td>2.668367</td>\n",
              "    </tr>\n",
              "    <tr>\n",
              "      <th>std</th>\n",
              "      <td>0.003055</td>\n",
              "      <td>0.783145</td>\n",
              "      <td>1.392641</td>\n",
              "      <td>0.491688</td>\n",
              "      <td>0.763578</td>\n",
              "      <td>0.672703</td>\n",
              "      <td>1.421490</td>\n",
              "      <td>0.485198</td>\n",
              "      <td>0.086359</td>\n",
              "      <td>2.062416</td>\n",
              "    </tr>\n",
              "    <tr>\n",
              "      <th>min</th>\n",
              "      <td>1.511310</td>\n",
              "      <td>10.730000</td>\n",
              "      <td>0.000000</td>\n",
              "      <td>0.290000</td>\n",
              "      <td>69.810000</td>\n",
              "      <td>0.000000</td>\n",
              "      <td>5.430000</td>\n",
              "      <td>0.000000</td>\n",
              "      <td>0.000000</td>\n",
              "      <td>1.000000</td>\n",
              "    </tr>\n",
              "    <tr>\n",
              "      <th>25%</th>\n",
              "      <td>1.516458</td>\n",
              "      <td>12.877500</td>\n",
              "      <td>2.362500</td>\n",
              "      <td>1.190000</td>\n",
              "      <td>72.317500</td>\n",
              "      <td>0.140000</td>\n",
              "      <td>8.220000</td>\n",
              "      <td>0.000000</td>\n",
              "      <td>0.000000</td>\n",
              "      <td>1.000000</td>\n",
              "    </tr>\n",
              "    <tr>\n",
              "      <th>50%</th>\n",
              "      <td>1.517630</td>\n",
              "      <td>13.280000</td>\n",
              "      <td>3.480000</td>\n",
              "      <td>1.360000</td>\n",
              "      <td>72.810000</td>\n",
              "      <td>0.560000</td>\n",
              "      <td>8.575000</td>\n",
              "      <td>0.000000</td>\n",
              "      <td>0.000000</td>\n",
              "      <td>2.000000</td>\n",
              "    </tr>\n",
              "    <tr>\n",
              "      <th>75%</th>\n",
              "      <td>1.518985</td>\n",
              "      <td>13.792500</td>\n",
              "      <td>3.610000</td>\n",
              "      <td>1.622500</td>\n",
              "      <td>73.080000</td>\n",
              "      <td>0.610000</td>\n",
              "      <td>9.092500</td>\n",
              "      <td>0.000000</td>\n",
              "      <td>0.090000</td>\n",
              "      <td>3.000000</td>\n",
              "    </tr>\n",
              "    <tr>\n",
              "      <th>max</th>\n",
              "      <td>1.533930</td>\n",
              "      <td>15.790000</td>\n",
              "      <td>4.490000</td>\n",
              "      <td>3.500000</td>\n",
              "      <td>75.180000</td>\n",
              "      <td>6.210000</td>\n",
              "      <td>16.190000</td>\n",
              "      <td>3.150000</td>\n",
              "      <td>0.340000</td>\n",
              "      <td>7.000000</td>\n",
              "    </tr>\n",
              "  </tbody>\n",
              "</table>\n",
              "</div>\n",
              "      <button class=\"colab-df-convert\" onclick=\"convertToInteractive('df-295c9d44-3afc-4740-a1fc-8856359156fd')\"\n",
              "              title=\"Convert this dataframe to an interactive table.\"\n",
              "              style=\"display:none;\">\n",
              "        \n",
              "  <svg xmlns=\"http://www.w3.org/2000/svg\" height=\"24px\"viewBox=\"0 0 24 24\"\n",
              "       width=\"24px\">\n",
              "    <path d=\"M0 0h24v24H0V0z\" fill=\"none\"/>\n",
              "    <path d=\"M18.56 5.44l.94 2.06.94-2.06 2.06-.94-2.06-.94-.94-2.06-.94 2.06-2.06.94zm-11 1L8.5 8.5l.94-2.06 2.06-.94-2.06-.94L8.5 2.5l-.94 2.06-2.06.94zm10 10l.94 2.06.94-2.06 2.06-.94-2.06-.94-.94-2.06-.94 2.06-2.06.94z\"/><path d=\"M17.41 7.96l-1.37-1.37c-.4-.4-.92-.59-1.43-.59-.52 0-1.04.2-1.43.59L10.3 9.45l-7.72 7.72c-.78.78-.78 2.05 0 2.83L4 21.41c.39.39.9.59 1.41.59.51 0 1.02-.2 1.41-.59l7.78-7.78 2.81-2.81c.8-.78.8-2.07 0-2.86zM5.41 20L4 18.59l7.72-7.72 1.47 1.35L5.41 20z\"/>\n",
              "  </svg>\n",
              "      </button>\n",
              "      \n",
              "  <style>\n",
              "    .colab-df-container {\n",
              "      display:flex;\n",
              "      flex-wrap:wrap;\n",
              "      gap: 12px;\n",
              "    }\n",
              "\n",
              "    .colab-df-convert {\n",
              "      background-color: #E8F0FE;\n",
              "      border: none;\n",
              "      border-radius: 50%;\n",
              "      cursor: pointer;\n",
              "      display: none;\n",
              "      fill: #1967D2;\n",
              "      height: 32px;\n",
              "      padding: 0 0 0 0;\n",
              "      width: 32px;\n",
              "    }\n",
              "\n",
              "    .colab-df-convert:hover {\n",
              "      background-color: #E2EBFA;\n",
              "      box-shadow: 0px 1px 2px rgba(60, 64, 67, 0.3), 0px 1px 3px 1px rgba(60, 64, 67, 0.15);\n",
              "      fill: #174EA6;\n",
              "    }\n",
              "\n",
              "    [theme=dark] .colab-df-convert {\n",
              "      background-color: #3B4455;\n",
              "      fill: #D2E3FC;\n",
              "    }\n",
              "\n",
              "    [theme=dark] .colab-df-convert:hover {\n",
              "      background-color: #434B5C;\n",
              "      box-shadow: 0px 1px 3px 1px rgba(0, 0, 0, 0.15);\n",
              "      filter: drop-shadow(0px 1px 2px rgba(0, 0, 0, 0.3));\n",
              "      fill: #FFFFFF;\n",
              "    }\n",
              "  </style>\n",
              "\n",
              "      <script>\n",
              "        const buttonEl =\n",
              "          document.querySelector('#df-295c9d44-3afc-4740-a1fc-8856359156fd button.colab-df-convert');\n",
              "        buttonEl.style.display =\n",
              "          google.colab.kernel.accessAllowed ? 'block' : 'none';\n",
              "\n",
              "        async function convertToInteractive(key) {\n",
              "          const element = document.querySelector('#df-295c9d44-3afc-4740-a1fc-8856359156fd');\n",
              "          const dataTable =\n",
              "            await google.colab.kernel.invokeFunction('convertToInteractive',\n",
              "                                                     [key], {});\n",
              "          if (!dataTable) return;\n",
              "\n",
              "          const docLinkHtml = 'Like what you see? Visit the ' +\n",
              "            '<a target=\"_blank\" href=https://colab.research.google.com/notebooks/data_table.ipynb>data table notebook</a>'\n",
              "            + ' to learn more about interactive tables.';\n",
              "          element.innerHTML = '';\n",
              "          dataTable['output_type'] = 'display_data';\n",
              "          await google.colab.output.renderOutput(dataTable, element);\n",
              "          const docLink = document.createElement('div');\n",
              "          docLink.innerHTML = docLinkHtml;\n",
              "          element.appendChild(docLink);\n",
              "        }\n",
              "      </script>\n",
              "    </div>\n",
              "  </div>\n",
              "  "
            ]
          },
          "metadata": {},
          "execution_count": 24
        }
      ]
    },
    {
      "cell_type": "code",
      "source": [
        "test.describe()"
      ],
      "metadata": {
        "colab": {
          "base_uri": "https://localhost:8080/",
          "height": 300
        },
        "id": "S3UC7ra9Wlin",
        "outputId": "03308977-05e1-427a-a03e-1cbf4bc39640"
      },
      "execution_count": 25,
      "outputs": [
        {
          "output_type": "execute_result",
          "data": {
            "text/plain": [
              "              RI         Na         Mg         Al         Si          K  \\\n",
              "count  18.000000  18.000000  18.000000  18.000000  18.000000  18.000000   \n",
              "mean    1.519131  13.763333   1.873889   1.342222  72.820000   0.253889   \n",
              "std     0.002791   1.083491   1.749753   0.581312   0.892004   0.265133   \n",
              "min     1.511150  12.850000   0.000000   0.340000  71.360000   0.000000   \n",
              "25%     1.517412  13.012500   0.000000   0.877500  72.212500   0.000000   \n",
              "50%     1.519515  13.355000   2.395000   1.320000  72.685000   0.175000   \n",
              "75%     1.521055  14.220000   3.570000   1.902500  73.382500   0.502500   \n",
              "max     1.523000  17.380000   3.780000   2.170000  75.410000   0.760000   \n",
              "\n",
              "              Ca         Ba         Fe  Type of Glass  \n",
              "count  18.000000  18.000000  18.000000      18.000000  \n",
              "mean    9.460556   0.292778   0.130556       4.000000  \n",
              "std     1.380432   0.617422   0.164798       2.222876  \n",
              "min     6.650000   0.000000   0.000000       1.000000  \n",
              "25%     8.635000   0.000000   0.000000       2.000000  \n",
              "50%     9.065000   0.000000   0.015000       4.000000  \n",
              "75%    10.090000   0.112500   0.240000       6.000000  \n",
              "max    12.500000   1.670000   0.510000       7.000000  "
            ],
            "text/html": [
              "\n",
              "  <div id=\"df-23efad32-5885-4644-aeb7-4014a123beda\">\n",
              "    <div class=\"colab-df-container\">\n",
              "      <div>\n",
              "<style scoped>\n",
              "    .dataframe tbody tr th:only-of-type {\n",
              "        vertical-align: middle;\n",
              "    }\n",
              "\n",
              "    .dataframe tbody tr th {\n",
              "        vertical-align: top;\n",
              "    }\n",
              "\n",
              "    .dataframe thead th {\n",
              "        text-align: right;\n",
              "    }\n",
              "</style>\n",
              "<table border=\"1\" class=\"dataframe\">\n",
              "  <thead>\n",
              "    <tr style=\"text-align: right;\">\n",
              "      <th></th>\n",
              "      <th>RI</th>\n",
              "      <th>Na</th>\n",
              "      <th>Mg</th>\n",
              "      <th>Al</th>\n",
              "      <th>Si</th>\n",
              "      <th>K</th>\n",
              "      <th>Ca</th>\n",
              "      <th>Ba</th>\n",
              "      <th>Fe</th>\n",
              "      <th>Type of Glass</th>\n",
              "    </tr>\n",
              "  </thead>\n",
              "  <tbody>\n",
              "    <tr>\n",
              "      <th>count</th>\n",
              "      <td>18.000000</td>\n",
              "      <td>18.000000</td>\n",
              "      <td>18.000000</td>\n",
              "      <td>18.000000</td>\n",
              "      <td>18.000000</td>\n",
              "      <td>18.000000</td>\n",
              "      <td>18.000000</td>\n",
              "      <td>18.000000</td>\n",
              "      <td>18.000000</td>\n",
              "      <td>18.000000</td>\n",
              "    </tr>\n",
              "    <tr>\n",
              "      <th>mean</th>\n",
              "      <td>1.519131</td>\n",
              "      <td>13.763333</td>\n",
              "      <td>1.873889</td>\n",
              "      <td>1.342222</td>\n",
              "      <td>72.820000</td>\n",
              "      <td>0.253889</td>\n",
              "      <td>9.460556</td>\n",
              "      <td>0.292778</td>\n",
              "      <td>0.130556</td>\n",
              "      <td>4.000000</td>\n",
              "    </tr>\n",
              "    <tr>\n",
              "      <th>std</th>\n",
              "      <td>0.002791</td>\n",
              "      <td>1.083491</td>\n",
              "      <td>1.749753</td>\n",
              "      <td>0.581312</td>\n",
              "      <td>0.892004</td>\n",
              "      <td>0.265133</td>\n",
              "      <td>1.380432</td>\n",
              "      <td>0.617422</td>\n",
              "      <td>0.164798</td>\n",
              "      <td>2.222876</td>\n",
              "    </tr>\n",
              "    <tr>\n",
              "      <th>min</th>\n",
              "      <td>1.511150</td>\n",
              "      <td>12.850000</td>\n",
              "      <td>0.000000</td>\n",
              "      <td>0.340000</td>\n",
              "      <td>71.360000</td>\n",
              "      <td>0.000000</td>\n",
              "      <td>6.650000</td>\n",
              "      <td>0.000000</td>\n",
              "      <td>0.000000</td>\n",
              "      <td>1.000000</td>\n",
              "    </tr>\n",
              "    <tr>\n",
              "      <th>25%</th>\n",
              "      <td>1.517412</td>\n",
              "      <td>13.012500</td>\n",
              "      <td>0.000000</td>\n",
              "      <td>0.877500</td>\n",
              "      <td>72.212500</td>\n",
              "      <td>0.000000</td>\n",
              "      <td>8.635000</td>\n",
              "      <td>0.000000</td>\n",
              "      <td>0.000000</td>\n",
              "      <td>2.000000</td>\n",
              "    </tr>\n",
              "    <tr>\n",
              "      <th>50%</th>\n",
              "      <td>1.519515</td>\n",
              "      <td>13.355000</td>\n",
              "      <td>2.395000</td>\n",
              "      <td>1.320000</td>\n",
              "      <td>72.685000</td>\n",
              "      <td>0.175000</td>\n",
              "      <td>9.065000</td>\n",
              "      <td>0.000000</td>\n",
              "      <td>0.015000</td>\n",
              "      <td>4.000000</td>\n",
              "    </tr>\n",
              "    <tr>\n",
              "      <th>75%</th>\n",
              "      <td>1.521055</td>\n",
              "      <td>14.220000</td>\n",
              "      <td>3.570000</td>\n",
              "      <td>1.902500</td>\n",
              "      <td>73.382500</td>\n",
              "      <td>0.502500</td>\n",
              "      <td>10.090000</td>\n",
              "      <td>0.112500</td>\n",
              "      <td>0.240000</td>\n",
              "      <td>6.000000</td>\n",
              "    </tr>\n",
              "    <tr>\n",
              "      <th>max</th>\n",
              "      <td>1.523000</td>\n",
              "      <td>17.380000</td>\n",
              "      <td>3.780000</td>\n",
              "      <td>2.170000</td>\n",
              "      <td>75.410000</td>\n",
              "      <td>0.760000</td>\n",
              "      <td>12.500000</td>\n",
              "      <td>1.670000</td>\n",
              "      <td>0.510000</td>\n",
              "      <td>7.000000</td>\n",
              "    </tr>\n",
              "  </tbody>\n",
              "</table>\n",
              "</div>\n",
              "      <button class=\"colab-df-convert\" onclick=\"convertToInteractive('df-23efad32-5885-4644-aeb7-4014a123beda')\"\n",
              "              title=\"Convert this dataframe to an interactive table.\"\n",
              "              style=\"display:none;\">\n",
              "        \n",
              "  <svg xmlns=\"http://www.w3.org/2000/svg\" height=\"24px\"viewBox=\"0 0 24 24\"\n",
              "       width=\"24px\">\n",
              "    <path d=\"M0 0h24v24H0V0z\" fill=\"none\"/>\n",
              "    <path d=\"M18.56 5.44l.94 2.06.94-2.06 2.06-.94-2.06-.94-.94-2.06-.94 2.06-2.06.94zm-11 1L8.5 8.5l.94-2.06 2.06-.94-2.06-.94L8.5 2.5l-.94 2.06-2.06.94zm10 10l.94 2.06.94-2.06 2.06-.94-2.06-.94-.94-2.06-.94 2.06-2.06.94z\"/><path d=\"M17.41 7.96l-1.37-1.37c-.4-.4-.92-.59-1.43-.59-.52 0-1.04.2-1.43.59L10.3 9.45l-7.72 7.72c-.78.78-.78 2.05 0 2.83L4 21.41c.39.39.9.59 1.41.59.51 0 1.02-.2 1.41-.59l7.78-7.78 2.81-2.81c.8-.78.8-2.07 0-2.86zM5.41 20L4 18.59l7.72-7.72 1.47 1.35L5.41 20z\"/>\n",
              "  </svg>\n",
              "      </button>\n",
              "      \n",
              "  <style>\n",
              "    .colab-df-container {\n",
              "      display:flex;\n",
              "      flex-wrap:wrap;\n",
              "      gap: 12px;\n",
              "    }\n",
              "\n",
              "    .colab-df-convert {\n",
              "      background-color: #E8F0FE;\n",
              "      border: none;\n",
              "      border-radius: 50%;\n",
              "      cursor: pointer;\n",
              "      display: none;\n",
              "      fill: #1967D2;\n",
              "      height: 32px;\n",
              "      padding: 0 0 0 0;\n",
              "      width: 32px;\n",
              "    }\n",
              "\n",
              "    .colab-df-convert:hover {\n",
              "      background-color: #E2EBFA;\n",
              "      box-shadow: 0px 1px 2px rgba(60, 64, 67, 0.3), 0px 1px 3px 1px rgba(60, 64, 67, 0.15);\n",
              "      fill: #174EA6;\n",
              "    }\n",
              "\n",
              "    [theme=dark] .colab-df-convert {\n",
              "      background-color: #3B4455;\n",
              "      fill: #D2E3FC;\n",
              "    }\n",
              "\n",
              "    [theme=dark] .colab-df-convert:hover {\n",
              "      background-color: #434B5C;\n",
              "      box-shadow: 0px 1px 3px 1px rgba(0, 0, 0, 0.15);\n",
              "      filter: drop-shadow(0px 1px 2px rgba(0, 0, 0, 0.3));\n",
              "      fill: #FFFFFF;\n",
              "    }\n",
              "  </style>\n",
              "\n",
              "      <script>\n",
              "        const buttonEl =\n",
              "          document.querySelector('#df-23efad32-5885-4644-aeb7-4014a123beda button.colab-df-convert');\n",
              "        buttonEl.style.display =\n",
              "          google.colab.kernel.accessAllowed ? 'block' : 'none';\n",
              "\n",
              "        async function convertToInteractive(key) {\n",
              "          const element = document.querySelector('#df-23efad32-5885-4644-aeb7-4014a123beda');\n",
              "          const dataTable =\n",
              "            await google.colab.kernel.invokeFunction('convertToInteractive',\n",
              "                                                     [key], {});\n",
              "          if (!dataTable) return;\n",
              "\n",
              "          const docLinkHtml = 'Like what you see? Visit the ' +\n",
              "            '<a target=\"_blank\" href=https://colab.research.google.com/notebooks/data_table.ipynb>data table notebook</a>'\n",
              "            + ' to learn more about interactive tables.';\n",
              "          element.innerHTML = '';\n",
              "          dataTable['output_type'] = 'display_data';\n",
              "          await google.colab.output.renderOutput(dataTable, element);\n",
              "          const docLink = document.createElement('div');\n",
              "          docLink.innerHTML = docLinkHtml;\n",
              "          element.appendChild(docLink);\n",
              "        }\n",
              "      </script>\n",
              "    </div>\n",
              "  </div>\n",
              "  "
            ]
          },
          "metadata": {},
          "execution_count": 25
        }
      ]
    },
    {
      "cell_type": "code",
      "source": [
        "#Standardization of Train and Test dataset\n",
        "def standardize(data):\n",
        "  for col in data.columns:\n",
        "    if col != 'Type of Glass':\n",
        "      data[col]=(data[col] - data[col].mean())/data[col].std()\n",
        "  return data "
      ],
      "metadata": {
        "id": "szp50oekW0Nm"
      },
      "execution_count": 30,
      "outputs": []
    },
    {
      "cell_type": "code",
      "source": [
        "train = standardize(train)\n",
        "test = standardize(test)\n",
        "train.head()"
      ],
      "metadata": {
        "colab": {
          "base_uri": "https://localhost:8080/",
          "height": 206
        },
        "id": "KN1chqJZY0o3",
        "outputId": "7eb505d3-d82c-439d-d5d9-40dd9671e361"
      },
      "execution_count": 32,
      "outputs": [
        {
          "output_type": "execute_result",
          "data": {
            "text/plain": [
              "         RI        Na        Mg        Al        Si         K        Ca  \\\n",
              "0  0.888537  0.338119  1.242977 -0.720654 -1.120263 -0.682898 -0.113060   \n",
              "1 -0.224221  0.657345  0.603903 -0.191863  0.123880 -0.058551 -0.760269   \n",
              "2 -0.692234  0.197659  0.568000  0.174223  0.464382 -0.192340 -0.795443   \n",
              "3 -0.207857 -0.210950  0.668529 -0.334230 -0.033275  0.075237 -0.485909   \n",
              "4 -0.286405 -0.134335  0.618265 -0.435920  0.582248  0.045506 -0.591432   \n",
              "\n",
              "        Ba        Fe  Type of Glass  \n",
              "0 -0.33849 -0.581932              1  \n",
              "1 -0.33849 -0.581932              1  \n",
              "2 -0.33849 -0.581932              1  \n",
              "3 -0.33849 -0.581932              1  \n",
              "4 -0.33849 -0.581932              1  "
            ],
            "text/html": [
              "\n",
              "  <div id=\"df-92cb584c-3f61-4236-9f88-35ea035c8591\">\n",
              "    <div class=\"colab-df-container\">\n",
              "      <div>\n",
              "<style scoped>\n",
              "    .dataframe tbody tr th:only-of-type {\n",
              "        vertical-align: middle;\n",
              "    }\n",
              "\n",
              "    .dataframe tbody tr th {\n",
              "        vertical-align: top;\n",
              "    }\n",
              "\n",
              "    .dataframe thead th {\n",
              "        text-align: right;\n",
              "    }\n",
              "</style>\n",
              "<table border=\"1\" class=\"dataframe\">\n",
              "  <thead>\n",
              "    <tr style=\"text-align: right;\">\n",
              "      <th></th>\n",
              "      <th>RI</th>\n",
              "      <th>Na</th>\n",
              "      <th>Mg</th>\n",
              "      <th>Al</th>\n",
              "      <th>Si</th>\n",
              "      <th>K</th>\n",
              "      <th>Ca</th>\n",
              "      <th>Ba</th>\n",
              "      <th>Fe</th>\n",
              "      <th>Type of Glass</th>\n",
              "    </tr>\n",
              "  </thead>\n",
              "  <tbody>\n",
              "    <tr>\n",
              "      <th>0</th>\n",
              "      <td>0.888537</td>\n",
              "      <td>0.338119</td>\n",
              "      <td>1.242977</td>\n",
              "      <td>-0.720654</td>\n",
              "      <td>-1.120263</td>\n",
              "      <td>-0.682898</td>\n",
              "      <td>-0.113060</td>\n",
              "      <td>-0.33849</td>\n",
              "      <td>-0.581932</td>\n",
              "      <td>1</td>\n",
              "    </tr>\n",
              "    <tr>\n",
              "      <th>1</th>\n",
              "      <td>-0.224221</td>\n",
              "      <td>0.657345</td>\n",
              "      <td>0.603903</td>\n",
              "      <td>-0.191863</td>\n",
              "      <td>0.123880</td>\n",
              "      <td>-0.058551</td>\n",
              "      <td>-0.760269</td>\n",
              "      <td>-0.33849</td>\n",
              "      <td>-0.581932</td>\n",
              "      <td>1</td>\n",
              "    </tr>\n",
              "    <tr>\n",
              "      <th>2</th>\n",
              "      <td>-0.692234</td>\n",
              "      <td>0.197659</td>\n",
              "      <td>0.568000</td>\n",
              "      <td>0.174223</td>\n",
              "      <td>0.464382</td>\n",
              "      <td>-0.192340</td>\n",
              "      <td>-0.795443</td>\n",
              "      <td>-0.33849</td>\n",
              "      <td>-0.581932</td>\n",
              "      <td>1</td>\n",
              "    </tr>\n",
              "    <tr>\n",
              "      <th>3</th>\n",
              "      <td>-0.207857</td>\n",
              "      <td>-0.210950</td>\n",
              "      <td>0.668529</td>\n",
              "      <td>-0.334230</td>\n",
              "      <td>-0.033275</td>\n",
              "      <td>0.075237</td>\n",
              "      <td>-0.485909</td>\n",
              "      <td>-0.33849</td>\n",
              "      <td>-0.581932</td>\n",
              "      <td>1</td>\n",
              "    </tr>\n",
              "    <tr>\n",
              "      <th>4</th>\n",
              "      <td>-0.286405</td>\n",
              "      <td>-0.134335</td>\n",
              "      <td>0.618265</td>\n",
              "      <td>-0.435920</td>\n",
              "      <td>0.582248</td>\n",
              "      <td>0.045506</td>\n",
              "      <td>-0.591432</td>\n",
              "      <td>-0.33849</td>\n",
              "      <td>-0.581932</td>\n",
              "      <td>1</td>\n",
              "    </tr>\n",
              "  </tbody>\n",
              "</table>\n",
              "</div>\n",
              "      <button class=\"colab-df-convert\" onclick=\"convertToInteractive('df-92cb584c-3f61-4236-9f88-35ea035c8591')\"\n",
              "              title=\"Convert this dataframe to an interactive table.\"\n",
              "              style=\"display:none;\">\n",
              "        \n",
              "  <svg xmlns=\"http://www.w3.org/2000/svg\" height=\"24px\"viewBox=\"0 0 24 24\"\n",
              "       width=\"24px\">\n",
              "    <path d=\"M0 0h24v24H0V0z\" fill=\"none\"/>\n",
              "    <path d=\"M18.56 5.44l.94 2.06.94-2.06 2.06-.94-2.06-.94-.94-2.06-.94 2.06-2.06.94zm-11 1L8.5 8.5l.94-2.06 2.06-.94-2.06-.94L8.5 2.5l-.94 2.06-2.06.94zm10 10l.94 2.06.94-2.06 2.06-.94-2.06-.94-.94-2.06-.94 2.06-2.06.94z\"/><path d=\"M17.41 7.96l-1.37-1.37c-.4-.4-.92-.59-1.43-.59-.52 0-1.04.2-1.43.59L10.3 9.45l-7.72 7.72c-.78.78-.78 2.05 0 2.83L4 21.41c.39.39.9.59 1.41.59.51 0 1.02-.2 1.41-.59l7.78-7.78 2.81-2.81c.8-.78.8-2.07 0-2.86zM5.41 20L4 18.59l7.72-7.72 1.47 1.35L5.41 20z\"/>\n",
              "  </svg>\n",
              "      </button>\n",
              "      \n",
              "  <style>\n",
              "    .colab-df-container {\n",
              "      display:flex;\n",
              "      flex-wrap:wrap;\n",
              "      gap: 12px;\n",
              "    }\n",
              "\n",
              "    .colab-df-convert {\n",
              "      background-color: #E8F0FE;\n",
              "      border: none;\n",
              "      border-radius: 50%;\n",
              "      cursor: pointer;\n",
              "      display: none;\n",
              "      fill: #1967D2;\n",
              "      height: 32px;\n",
              "      padding: 0 0 0 0;\n",
              "      width: 32px;\n",
              "    }\n",
              "\n",
              "    .colab-df-convert:hover {\n",
              "      background-color: #E2EBFA;\n",
              "      box-shadow: 0px 1px 2px rgba(60, 64, 67, 0.3), 0px 1px 3px 1px rgba(60, 64, 67, 0.15);\n",
              "      fill: #174EA6;\n",
              "    }\n",
              "\n",
              "    [theme=dark] .colab-df-convert {\n",
              "      background-color: #3B4455;\n",
              "      fill: #D2E3FC;\n",
              "    }\n",
              "\n",
              "    [theme=dark] .colab-df-convert:hover {\n",
              "      background-color: #434B5C;\n",
              "      box-shadow: 0px 1px 3px 1px rgba(0, 0, 0, 0.15);\n",
              "      filter: drop-shadow(0px 1px 2px rgba(0, 0, 0, 0.3));\n",
              "      fill: #FFFFFF;\n",
              "    }\n",
              "  </style>\n",
              "\n",
              "      <script>\n",
              "        const buttonEl =\n",
              "          document.querySelector('#df-92cb584c-3f61-4236-9f88-35ea035c8591 button.colab-df-convert');\n",
              "        buttonEl.style.display =\n",
              "          google.colab.kernel.accessAllowed ? 'block' : 'none';\n",
              "\n",
              "        async function convertToInteractive(key) {\n",
              "          const element = document.querySelector('#df-92cb584c-3f61-4236-9f88-35ea035c8591');\n",
              "          const dataTable =\n",
              "            await google.colab.kernel.invokeFunction('convertToInteractive',\n",
              "                                                     [key], {});\n",
              "          if (!dataTable) return;\n",
              "\n",
              "          const docLinkHtml = 'Like what you see? Visit the ' +\n",
              "            '<a target=\"_blank\" href=https://colab.research.google.com/notebooks/data_table.ipynb>data table notebook</a>'\n",
              "            + ' to learn more about interactive tables.';\n",
              "          element.innerHTML = '';\n",
              "          dataTable['output_type'] = 'display_data';\n",
              "          await google.colab.output.renderOutput(dataTable, element);\n",
              "          const docLink = document.createElement('div');\n",
              "          docLink.innerHTML = docLinkHtml;\n",
              "          element.appendChild(docLink);\n",
              "        }\n",
              "      </script>\n",
              "    </div>\n",
              "  </div>\n",
              "  "
            ]
          },
          "metadata": {},
          "execution_count": 32
        }
      ]
    },
    {
      "cell_type": "code",
      "source": [
        "test.head()"
      ],
      "metadata": {
        "colab": {
          "base_uri": "https://localhost:8080/",
          "height": 206
        },
        "id": "lYXlrpAVZiU3",
        "outputId": "7c917a11-9ab5-4c7c-f82a-b02338865022"
      },
      "execution_count": 33,
      "outputs": [
        {
          "output_type": "execute_result",
          "data": {
            "text/plain": [
              "         RI        Na        Mg        Al        Si         K        Ca  \\\n",
              "0  0.856076 -0.658366  1.015064 -0.812338 -0.560536 -0.240969  0.282118   \n",
              "1  0.856076 -0.593760  0.975058 -0.760731 -0.695064 -0.090101  0.260385   \n",
              "2  1.386446 -0.418401  0.975058 -0.898350 -0.930489 -0.504987  0.513929   \n",
              "3 -0.731448 -0.704513  0.912192  0.770288 -0.112107  1.531723 -0.927648   \n",
              "4 -0.907043 -0.713742  0.746454 -0.193050  0.168161  1.229989 -0.471269   \n",
              "\n",
              "         Ba        Fe  Type of Glass  \n",
              "0 -0.474194  0.239350              1  \n",
              "1 -0.474194  0.178670              1  \n",
              "2 -0.474194 -0.610173              1  \n",
              "3 -0.474194 -0.792214              2  \n",
              "4 -0.474194  0.664111              2  "
            ],
            "text/html": [
              "\n",
              "  <div id=\"df-39e9baa5-f22a-4fd5-9656-1cc16dcf1ce9\">\n",
              "    <div class=\"colab-df-container\">\n",
              "      <div>\n",
              "<style scoped>\n",
              "    .dataframe tbody tr th:only-of-type {\n",
              "        vertical-align: middle;\n",
              "    }\n",
              "\n",
              "    .dataframe tbody tr th {\n",
              "        vertical-align: top;\n",
              "    }\n",
              "\n",
              "    .dataframe thead th {\n",
              "        text-align: right;\n",
              "    }\n",
              "</style>\n",
              "<table border=\"1\" class=\"dataframe\">\n",
              "  <thead>\n",
              "    <tr style=\"text-align: right;\">\n",
              "      <th></th>\n",
              "      <th>RI</th>\n",
              "      <th>Na</th>\n",
              "      <th>Mg</th>\n",
              "      <th>Al</th>\n",
              "      <th>Si</th>\n",
              "      <th>K</th>\n",
              "      <th>Ca</th>\n",
              "      <th>Ba</th>\n",
              "      <th>Fe</th>\n",
              "      <th>Type of Glass</th>\n",
              "    </tr>\n",
              "  </thead>\n",
              "  <tbody>\n",
              "    <tr>\n",
              "      <th>0</th>\n",
              "      <td>0.856076</td>\n",
              "      <td>-0.658366</td>\n",
              "      <td>1.015064</td>\n",
              "      <td>-0.812338</td>\n",
              "      <td>-0.560536</td>\n",
              "      <td>-0.240969</td>\n",
              "      <td>0.282118</td>\n",
              "      <td>-0.474194</td>\n",
              "      <td>0.239350</td>\n",
              "      <td>1</td>\n",
              "    </tr>\n",
              "    <tr>\n",
              "      <th>1</th>\n",
              "      <td>0.856076</td>\n",
              "      <td>-0.593760</td>\n",
              "      <td>0.975058</td>\n",
              "      <td>-0.760731</td>\n",
              "      <td>-0.695064</td>\n",
              "      <td>-0.090101</td>\n",
              "      <td>0.260385</td>\n",
              "      <td>-0.474194</td>\n",
              "      <td>0.178670</td>\n",
              "      <td>1</td>\n",
              "    </tr>\n",
              "    <tr>\n",
              "      <th>2</th>\n",
              "      <td>1.386446</td>\n",
              "      <td>-0.418401</td>\n",
              "      <td>0.975058</td>\n",
              "      <td>-0.898350</td>\n",
              "      <td>-0.930489</td>\n",
              "      <td>-0.504987</td>\n",
              "      <td>0.513929</td>\n",
              "      <td>-0.474194</td>\n",
              "      <td>-0.610173</td>\n",
              "      <td>1</td>\n",
              "    </tr>\n",
              "    <tr>\n",
              "      <th>3</th>\n",
              "      <td>-0.731448</td>\n",
              "      <td>-0.704513</td>\n",
              "      <td>0.912192</td>\n",
              "      <td>0.770288</td>\n",
              "      <td>-0.112107</td>\n",
              "      <td>1.531723</td>\n",
              "      <td>-0.927648</td>\n",
              "      <td>-0.474194</td>\n",
              "      <td>-0.792214</td>\n",
              "      <td>2</td>\n",
              "    </tr>\n",
              "    <tr>\n",
              "      <th>4</th>\n",
              "      <td>-0.907043</td>\n",
              "      <td>-0.713742</td>\n",
              "      <td>0.746454</td>\n",
              "      <td>-0.193050</td>\n",
              "      <td>0.168161</td>\n",
              "      <td>1.229989</td>\n",
              "      <td>-0.471269</td>\n",
              "      <td>-0.474194</td>\n",
              "      <td>0.664111</td>\n",
              "      <td>2</td>\n",
              "    </tr>\n",
              "  </tbody>\n",
              "</table>\n",
              "</div>\n",
              "      <button class=\"colab-df-convert\" onclick=\"convertToInteractive('df-39e9baa5-f22a-4fd5-9656-1cc16dcf1ce9')\"\n",
              "              title=\"Convert this dataframe to an interactive table.\"\n",
              "              style=\"display:none;\">\n",
              "        \n",
              "  <svg xmlns=\"http://www.w3.org/2000/svg\" height=\"24px\"viewBox=\"0 0 24 24\"\n",
              "       width=\"24px\">\n",
              "    <path d=\"M0 0h24v24H0V0z\" fill=\"none\"/>\n",
              "    <path d=\"M18.56 5.44l.94 2.06.94-2.06 2.06-.94-2.06-.94-.94-2.06-.94 2.06-2.06.94zm-11 1L8.5 8.5l.94-2.06 2.06-.94-2.06-.94L8.5 2.5l-.94 2.06-2.06.94zm10 10l.94 2.06.94-2.06 2.06-.94-2.06-.94-.94-2.06-.94 2.06-2.06.94z\"/><path d=\"M17.41 7.96l-1.37-1.37c-.4-.4-.92-.59-1.43-.59-.52 0-1.04.2-1.43.59L10.3 9.45l-7.72 7.72c-.78.78-.78 2.05 0 2.83L4 21.41c.39.39.9.59 1.41.59.51 0 1.02-.2 1.41-.59l7.78-7.78 2.81-2.81c.8-.78.8-2.07 0-2.86zM5.41 20L4 18.59l7.72-7.72 1.47 1.35L5.41 20z\"/>\n",
              "  </svg>\n",
              "      </button>\n",
              "      \n",
              "  <style>\n",
              "    .colab-df-container {\n",
              "      display:flex;\n",
              "      flex-wrap:wrap;\n",
              "      gap: 12px;\n",
              "    }\n",
              "\n",
              "    .colab-df-convert {\n",
              "      background-color: #E8F0FE;\n",
              "      border: none;\n",
              "      border-radius: 50%;\n",
              "      cursor: pointer;\n",
              "      display: none;\n",
              "      fill: #1967D2;\n",
              "      height: 32px;\n",
              "      padding: 0 0 0 0;\n",
              "      width: 32px;\n",
              "    }\n",
              "\n",
              "    .colab-df-convert:hover {\n",
              "      background-color: #E2EBFA;\n",
              "      box-shadow: 0px 1px 2px rgba(60, 64, 67, 0.3), 0px 1px 3px 1px rgba(60, 64, 67, 0.15);\n",
              "      fill: #174EA6;\n",
              "    }\n",
              "\n",
              "    [theme=dark] .colab-df-convert {\n",
              "      background-color: #3B4455;\n",
              "      fill: #D2E3FC;\n",
              "    }\n",
              "\n",
              "    [theme=dark] .colab-df-convert:hover {\n",
              "      background-color: #434B5C;\n",
              "      box-shadow: 0px 1px 3px 1px rgba(0, 0, 0, 0.15);\n",
              "      filter: drop-shadow(0px 1px 2px rgba(0, 0, 0, 0.3));\n",
              "      fill: #FFFFFF;\n",
              "    }\n",
              "  </style>\n",
              "\n",
              "      <script>\n",
              "        const buttonEl =\n",
              "          document.querySelector('#df-39e9baa5-f22a-4fd5-9656-1cc16dcf1ce9 button.colab-df-convert');\n",
              "        buttonEl.style.display =\n",
              "          google.colab.kernel.accessAllowed ? 'block' : 'none';\n",
              "\n",
              "        async function convertToInteractive(key) {\n",
              "          const element = document.querySelector('#df-39e9baa5-f22a-4fd5-9656-1cc16dcf1ce9');\n",
              "          const dataTable =\n",
              "            await google.colab.kernel.invokeFunction('convertToInteractive',\n",
              "                                                     [key], {});\n",
              "          if (!dataTable) return;\n",
              "\n",
              "          const docLinkHtml = 'Like what you see? Visit the ' +\n",
              "            '<a target=\"_blank\" href=https://colab.research.google.com/notebooks/data_table.ipynb>data table notebook</a>'\n",
              "            + ' to learn more about interactive tables.';\n",
              "          element.innerHTML = '';\n",
              "          dataTable['output_type'] = 'display_data';\n",
              "          await google.colab.output.renderOutput(dataTable, element);\n",
              "          const docLink = document.createElement('div');\n",
              "          docLink.innerHTML = docLinkHtml;\n",
              "          element.appendChild(docLink);\n",
              "        }\n",
              "      </script>\n",
              "    </div>\n",
              "  </div>\n",
              "  "
            ]
          },
          "metadata": {},
          "execution_count": 33
        }
      ]
    },
    {
      "cell_type": "code",
      "source": [
        "#Preparing data for Analysis\n",
        "X_train = train.drop(['Type of Glass'], axis = 1).values\n",
        "y_train = train['Type of Glass'].values\n",
        "\n",
        "X_test = test.drop(['Type of Glass'], axis = 1).values\n",
        "y_test = test['Type of Glass'].values\n",
        "\n",
        "print(X_train.shape)\n",
        "print(y_train.shape)\n",
        "print(X_test.shape)\n",
        "print(y_test.shape)"
      ],
      "metadata": {
        "colab": {
          "base_uri": "https://localhost:8080/"
        },
        "id": "2yhmsRxaZ548",
        "outputId": "ab8bd069-0a36-49fe-a3ab-abee3455f8d9"
      },
      "execution_count": 38,
      "outputs": [
        {
          "output_type": "stream",
          "name": "stdout",
          "text": [
            "(196, 9)\n",
            "(196,)\n",
            "(18, 9)\n",
            "(18,)\n"
          ]
        }
      ]
    },
    {
      "cell_type": "code",
      "source": [
        "#K-NN Algorithm for the model\n",
        "from scipy.spatial import distance\n",
        "\n",
        "#Giving K value as Odd for first instance\n",
        "k = 5\n",
        "\n",
        "from sklearn.neighbors import KNeighborsClassifier\n",
        "\n",
        "Euclid_model = KNeighborsClassifier(n_neighbors= k, metric= distance.sqeuclidean)\n",
        "Manhattan_model = KNeighborsClassifier(n_neighbors= k, metric = distance.cityblock)"
      ],
      "metadata": {
        "id": "ZUhqrOe9ZkO5"
      },
      "execution_count": 53,
      "outputs": []
    },
    {
      "cell_type": "code",
      "source": [
        "#Training the Euclidean Model for Train datatset\n",
        "#Predict the values for the test Dataset\n",
        "Euclid_model.fit(X_train, y_train)\n",
        "\n",
        "Euclid_predictions = Euclid_model.predict(X_test)\n",
        "\n",
        "df = pd.DataFrame({'Actual': y_test, 'Predicted': Euclid_predictions})\n",
        "print(df)"
      ],
      "metadata": {
        "colab": {
          "base_uri": "https://localhost:8080/"
        },
        "id": "Vy8Aqn6edbWx",
        "outputId": "f5318951-48d8-4baa-f8c9-bbda507d206c"
      },
      "execution_count": 43,
      "outputs": [
        {
          "output_type": "stream",
          "name": "stdout",
          "text": [
            "    Actual  Predicted\n",
            "0        1          1\n",
            "1        1          1\n",
            "2        1          1\n",
            "3        2          2\n",
            "4        2          1\n",
            "5        2          2\n",
            "6        3          2\n",
            "7        3          2\n",
            "8        3          1\n",
            "9        5          5\n",
            "10       5          2\n",
            "11       5          5\n",
            "12       6          6\n",
            "13       6          2\n",
            "14       6          7\n",
            "15       7          7\n",
            "16       7          7\n",
            "17       7          7\n"
          ]
        }
      ]
    },
    {
      "cell_type": "code",
      "source": [
        "#Training the Manhattan Model for Train datatset\n",
        "#Predict the values for the test Dataset\n",
        "Manhattan_model.fit(X_train, y_train)\n",
        "\n",
        "Manhattan_predictions = Manhattan_model.predict(X_test)\n",
        "\n",
        "df1 = pd.DataFrame({'ACtual': y_test, 'Predicted': Manhattan_predictions})\n",
        "print(df1)"
      ],
      "metadata": {
        "colab": {
          "base_uri": "https://localhost:8080/"
        },
        "id": "OP41B7qLd1QT",
        "outputId": "988a073c-6556-4b5c-9ee5-e95e2ba23dac"
      },
      "execution_count": 47,
      "outputs": [
        {
          "output_type": "stream",
          "name": "stdout",
          "text": [
            "    ACtual  Predicted\n",
            "0        1          1\n",
            "1        1          1\n",
            "2        1          1\n",
            "3        2          2\n",
            "4        2          1\n",
            "5        2          1\n",
            "6        3          2\n",
            "7        3          2\n",
            "8        3          1\n",
            "9        5          5\n",
            "10       5          2\n",
            "11       5          5\n",
            "12       6          6\n",
            "13       6          6\n",
            "14       6          7\n",
            "15       7          7\n",
            "16       7          7\n",
            "17       7          7\n"
          ]
        }
      ]
    },
    {
      "cell_type": "code",
      "source": [
        "df3 = pd.DataFrame({'Actual': y_test, 'Euclid': Euclid_predictions , 'Manhattan': Manhattan_predictions})\n",
        "print(df3)"
      ],
      "metadata": {
        "colab": {
          "base_uri": "https://localhost:8080/"
        },
        "id": "au_Ohe9cfJgn",
        "outputId": "9bb2d6b3-7333-4ed2-9ae5-85bac5491d10"
      },
      "execution_count": 48,
      "outputs": [
        {
          "output_type": "stream",
          "name": "stdout",
          "text": [
            "    Actual  Euclid  Manhattan\n",
            "0        1       1          1\n",
            "1        1       1          1\n",
            "2        1       1          1\n",
            "3        2       2          2\n",
            "4        2       1          1\n",
            "5        2       2          1\n",
            "6        3       2          2\n",
            "7        3       2          2\n",
            "8        3       1          1\n",
            "9        5       5          5\n",
            "10       5       2          2\n",
            "11       5       5          5\n",
            "12       6       6          6\n",
            "13       6       2          6\n",
            "14       6       7          7\n",
            "15       7       7          7\n",
            "16       7       7          7\n",
            "17       7       7          7\n"
          ]
        }
      ]
    },
    {
      "cell_type": "code",
      "source": [
        "#Evaluation Metrics\n",
        "from sklearn import metrics\n",
        "\n",
        "print('Train Set Accuracy - Euclidean-Model:', metrics.accuracy_score(y_train, Euclid_model.predict(X_train)))\n",
        "print('Test Set Accuracy - Euclidean-Model:', metrics.accuracy_score(y_test, Euclid_predictions))"
      ],
      "metadata": {
        "colab": {
          "base_uri": "https://localhost:8080/"
        },
        "id": "Fe1ry_XRfhBj",
        "outputId": "d2ac990c-738e-4962-e073-5f944bce2a74"
      },
      "execution_count": 49,
      "outputs": [
        {
          "output_type": "stream",
          "name": "stdout",
          "text": [
            "Train Set Accuracy - Euclidean-Model: 0.8010204081632653\n",
            "Test Set Accuracy - Euclidean-Model: 0.6111111111111112\n"
          ]
        }
      ]
    },
    {
      "cell_type": "code",
      "source": [
        "#Evaluation Metrics\n",
        "from sklearn import metrics\n",
        "\n",
        "print('Train Set Accuracy - Manhattan-Model:', metrics.accuracy_score(y_train, Manhattan_model.predict(X_train)))\n",
        "print('Test Set Accuracy - Manhattan-Model:', metrics.accuracy_score(y_test, Manhattan_predictions))"
      ],
      "metadata": {
        "colab": {
          "base_uri": "https://localhost:8080/"
        },
        "id": "fwthLH8QmThs",
        "outputId": "ee02c01c-2678-40e9-ca8d-60b967ef5dbb"
      },
      "execution_count": 50,
      "outputs": [
        {
          "output_type": "stream",
          "name": "stdout",
          "text": [
            "Train Set Accuracy - Manhattan-Model: 0.8010204081632653\n",
            "Test Set Accuracy - Manhattan-Model: 0.6111111111111112\n"
          ]
        }
      ]
    },
    {
      "cell_type": "code",
      "source": [
        "#For k=8 \n",
        "#Even Value for Second Instance\n",
        "k=8\n",
        "\n",
        "Euclid_model = KNeighborsClassifier(n_neighbors= k, metric= distance.sqeuclidean)\n",
        "Manhattan_model = KNeighborsClassifier(n_neighbors= k, metric = distance.cityblock)"
      ],
      "metadata": {
        "id": "HiZsQyBxmrAq"
      },
      "execution_count": 72,
      "outputs": []
    },
    {
      "cell_type": "code",
      "source": [
        "#Training the Euclidean Model for Train datatset\n",
        "#Predict the values for the test Dataset\n",
        "Euclid_model.fit(X_train, y_train)\n",
        "\n",
        "Euclid_predictions = Euclid_model.predict(X_test)\n",
        "\n",
        "df = pd.DataFrame({'Actual': y_test, 'Predicted': Euclid_predictions})\n",
        "print(df)"
      ],
      "metadata": {
        "colab": {
          "base_uri": "https://localhost:8080/"
        },
        "id": "5Sgr1YtEnB5y",
        "outputId": "97bacb52-7c5b-49b1-bf9e-65d743caa0db"
      },
      "execution_count": 73,
      "outputs": [
        {
          "output_type": "stream",
          "name": "stdout",
          "text": [
            "    Actual  Predicted\n",
            "0        1          1\n",
            "1        1          1\n",
            "2        1          1\n",
            "3        2          2\n",
            "4        2          1\n",
            "5        2          2\n",
            "6        3          2\n",
            "7        3          2\n",
            "8        3          1\n",
            "9        5          5\n",
            "10       5          2\n",
            "11       5          5\n",
            "12       6          6\n",
            "13       6          2\n",
            "14       6          7\n",
            "15       7          7\n",
            "16       7          7\n",
            "17       7          7\n"
          ]
        }
      ]
    },
    {
      "cell_type": "code",
      "source": [
        "#Training the Manhattan Model for Train datatset\n",
        "#Predict the values for the test Dataset\n",
        "Manhattan_model.fit(X_train, y_train)\n",
        "\n",
        "Manhattan_predictions = Manhattan_model.predict(X_test)\n",
        "\n",
        "df1 = pd.DataFrame({'ACtual': y_test, 'Predicted': Manhattan_predictions})\n",
        "print(df1)"
      ],
      "metadata": {
        "colab": {
          "base_uri": "https://localhost:8080/"
        },
        "id": "gIoYABy2nHBz",
        "outputId": "323b171f-21a3-4395-a07a-c794ae375511"
      },
      "execution_count": 74,
      "outputs": [
        {
          "output_type": "stream",
          "name": "stdout",
          "text": [
            "    ACtual  Predicted\n",
            "0        1          1\n",
            "1        1          1\n",
            "2        1          1\n",
            "3        2          2\n",
            "4        2          1\n",
            "5        2          1\n",
            "6        3          2\n",
            "7        3          2\n",
            "8        3          1\n",
            "9        5          5\n",
            "10       5          2\n",
            "11       5          5\n",
            "12       6          6\n",
            "13       6          6\n",
            "14       6          6\n",
            "15       7          7\n",
            "16       7          7\n",
            "17       7          7\n"
          ]
        }
      ]
    },
    {
      "cell_type": "code",
      "source": [
        "df4 = pd.DataFrame({'Actual': y_test, 'Euclid': Euclid_predictions , 'Manhattan': Manhattan_predictions})\n",
        "print(df4)"
      ],
      "metadata": {
        "colab": {
          "base_uri": "https://localhost:8080/"
        },
        "id": "-hPxAv93quw7",
        "outputId": "c69b8093-c842-4be0-9900-0b07779dc6e7"
      },
      "execution_count": 75,
      "outputs": [
        {
          "output_type": "stream",
          "name": "stdout",
          "text": [
            "    Actual  Euclid  Manhattan\n",
            "0        1       1          1\n",
            "1        1       1          1\n",
            "2        1       1          1\n",
            "3        2       2          2\n",
            "4        2       1          1\n",
            "5        2       2          1\n",
            "6        3       2          2\n",
            "7        3       2          2\n",
            "8        3       1          1\n",
            "9        5       5          5\n",
            "10       5       2          2\n",
            "11       5       5          5\n",
            "12       6       6          6\n",
            "13       6       2          6\n",
            "14       6       7          6\n",
            "15       7       7          7\n",
            "16       7       7          7\n",
            "17       7       7          7\n"
          ]
        }
      ]
    },
    {
      "cell_type": "code",
      "source": [
        "#Evaluation Metrics\n",
        "from sklearn import metrics\n",
        "\n",
        "print('Train Set Accuracy - Euclidean-Model:', metrics.accuracy_score(y_train, Euclid_model.predict(X_train)))\n",
        "print('Test Set Accuracy - Euclidean-Model:', metrics.accuracy_score(y_test, Euclid_predictions))\n",
        "\n",
        "#Evaluation Metrics\n",
        "from sklearn import metrics\n",
        "\n",
        "print('Train Set Accuracy - Manhattan-Model:', metrics.accuracy_score(y_train, Manhattan_model.predict(X_train)))\n",
        "print('Test Set Accuracy - Manhattan-Model:', metrics.accuracy_score(y_test, Manhattan_predictions))"
      ],
      "metadata": {
        "colab": {
          "base_uri": "https://localhost:8080/"
        },
        "id": "be75rO3RnJvq",
        "outputId": "29d84fde-7728-4ed2-ec73-fa478576c010"
      },
      "execution_count": 76,
      "outputs": [
        {
          "output_type": "stream",
          "name": "stdout",
          "text": [
            "Train Set Accuracy - Euclidean-Model: 0.7551020408163265\n",
            "Test Set Accuracy - Euclidean-Model: 0.6111111111111112\n",
            "Train Set Accuracy - Manhattan-Model: 0.7602040816326531\n",
            "Test Set Accuracy - Manhattan-Model: 0.6666666666666666\n"
          ]
        }
      ]
    },
    {
      "cell_type": "code",
      "source": [
        "#Evaluation Performance for k=5\n",
        "from sklearn.metrics import classification_report\n",
        "Manhattan_count = len(df3.loc[df3['Manhattan'] == df3['Actual']])\n",
        "Euclid_count = len(df3.loc[df3['Euclid'] == df3['Actual']])"
      ],
      "metadata": {
        "id": "Wm7Thlg4nQtV"
      },
      "execution_count": 63,
      "outputs": []
    },
    {
      "cell_type": "code",
      "source": [
        "print('Manhattan Accuracy: {}%'.format(round(100*Manhattan_count/len(df3), 2)))\n",
        "print(classification_report(y_test, Manhattan_predictions, target_names=df3['Actual'].astype(str).unique()))"
      ],
      "metadata": {
        "colab": {
          "base_uri": "https://localhost:8080/"
        },
        "id": "r_ii-IxdqdgV",
        "outputId": "c075f783-2565-4428-e796-64dd07c2af03"
      },
      "execution_count": 67,
      "outputs": [
        {
          "output_type": "stream",
          "name": "stdout",
          "text": [
            "Manhattan Accuracy: 61.11%\n",
            "              precision    recall  f1-score   support\n",
            "\n",
            "           1       0.50      1.00      0.67         3\n",
            "           2       0.20      0.33      0.25         3\n",
            "           3       0.00      0.00      0.00         3\n",
            "           5       1.00      0.33      0.50         3\n",
            "           6       1.00      1.00      1.00         3\n",
            "           7       1.00      1.00      1.00         3\n",
            "\n",
            "    accuracy                           0.61        18\n",
            "   macro avg       0.62      0.61      0.57        18\n",
            "weighted avg       0.62      0.61      0.57        18\n",
            "\n"
          ]
        },
        {
          "output_type": "stream",
          "name": "stderr",
          "text": [
            "/usr/local/lib/python3.7/dist-packages/sklearn/metrics/_classification.py:1318: UndefinedMetricWarning: Precision and F-score are ill-defined and being set to 0.0 in labels with no predicted samples. Use `zero_division` parameter to control this behavior.\n",
            "  _warn_prf(average, modifier, msg_start, len(result))\n",
            "/usr/local/lib/python3.7/dist-packages/sklearn/metrics/_classification.py:1318: UndefinedMetricWarning: Precision and F-score are ill-defined and being set to 0.0 in labels with no predicted samples. Use `zero_division` parameter to control this behavior.\n",
            "  _warn_prf(average, modifier, msg_start, len(result))\n",
            "/usr/local/lib/python3.7/dist-packages/sklearn/metrics/_classification.py:1318: UndefinedMetricWarning: Precision and F-score are ill-defined and being set to 0.0 in labels with no predicted samples. Use `zero_division` parameter to control this behavior.\n",
            "  _warn_prf(average, modifier, msg_start, len(result))\n"
          ]
        }
      ]
    },
    {
      "cell_type": "code",
      "source": [
        "print('Square Euclidean Accuracy: {}%'.format(round(100*Euclid_count/len(df3), 2)))\n",
        "print(classification_report(y_test, Euclid_predictions, target_names=df3['Actual'].astype(str).unique()))"
      ],
      "metadata": {
        "colab": {
          "base_uri": "https://localhost:8080/"
        },
        "id": "bdfZ6T8QqgL7",
        "outputId": "9196a507-598b-47a2-f619-2ac62ab07516"
      },
      "execution_count": 68,
      "outputs": [
        {
          "output_type": "stream",
          "name": "stdout",
          "text": [
            "Square Euclidean Accuracy: 61.11%\n",
            "              precision    recall  f1-score   support\n",
            "\n",
            "           1       0.60      1.00      0.75         3\n",
            "           2       0.33      0.67      0.44         3\n",
            "           3       0.00      0.00      0.00         3\n",
            "           5       1.00      0.67      0.80         3\n",
            "           6       1.00      0.33      0.50         3\n",
            "           7       0.75      1.00      0.86         3\n",
            "\n",
            "    accuracy                           0.61        18\n",
            "   macro avg       0.61      0.61      0.56        18\n",
            "weighted avg       0.61      0.61      0.56        18\n",
            "\n"
          ]
        },
        {
          "output_type": "stream",
          "name": "stderr",
          "text": [
            "/usr/local/lib/python3.7/dist-packages/sklearn/metrics/_classification.py:1318: UndefinedMetricWarning: Precision and F-score are ill-defined and being set to 0.0 in labels with no predicted samples. Use `zero_division` parameter to control this behavior.\n",
            "  _warn_prf(average, modifier, msg_start, len(result))\n",
            "/usr/local/lib/python3.7/dist-packages/sklearn/metrics/_classification.py:1318: UndefinedMetricWarning: Precision and F-score are ill-defined and being set to 0.0 in labels with no predicted samples. Use `zero_division` parameter to control this behavior.\n",
            "  _warn_prf(average, modifier, msg_start, len(result))\n",
            "/usr/local/lib/python3.7/dist-packages/sklearn/metrics/_classification.py:1318: UndefinedMetricWarning: Precision and F-score are ill-defined and being set to 0.0 in labels with no predicted samples. Use `zero_division` parameter to control this behavior.\n",
            "  _warn_prf(average, modifier, msg_start, len(result))\n"
          ]
        }
      ]
    },
    {
      "cell_type": "code",
      "source": [
        "#Evaluation Performance for k=8\n",
        "from sklearn.metrics import classification_report\n",
        "Manhattan_count = len(df4.loc[df4['Manhattan'] == df4['Actual']])\n",
        "Euclid_count = len(df4.loc[df4['Euclid'] == df4['Actual']])"
      ],
      "metadata": {
        "id": "ekUt8p-trSDR"
      },
      "execution_count": 77,
      "outputs": []
    },
    {
      "cell_type": "code",
      "source": [
        "print('Manhattan Accuracy: {}%'.format(round(100*Manhattan_count/len(df4), 2)))\n",
        "print(classification_report(y_test, Manhattan_predictions, target_names=df4['Actual'].astype(str).unique()))"
      ],
      "metadata": {
        "colab": {
          "base_uri": "https://localhost:8080/"
        },
        "id": "wKHZ7MKHrZDd",
        "outputId": "230c00c6-9ec9-4f50-cfd0-5f3c666a9188"
      },
      "execution_count": 78,
      "outputs": [
        {
          "output_type": "stream",
          "name": "stdout",
          "text": [
            "Manhattan Accuracy: 66.67%\n",
            "              precision    recall  f1-score   support\n",
            "\n",
            "           1       0.50      1.00      0.67         3\n",
            "           2       0.25      0.33      0.29         3\n",
            "           3       0.00      0.00      0.00         3\n",
            "           5       1.00      0.67      0.80         3\n",
            "           6       1.00      1.00      1.00         3\n",
            "           7       1.00      1.00      1.00         3\n",
            "\n",
            "    accuracy                           0.67        18\n",
            "   macro avg       0.62      0.67      0.63        18\n",
            "weighted avg       0.62      0.67      0.63        18\n",
            "\n"
          ]
        },
        {
          "output_type": "stream",
          "name": "stderr",
          "text": [
            "/usr/local/lib/python3.7/dist-packages/sklearn/metrics/_classification.py:1318: UndefinedMetricWarning: Precision and F-score are ill-defined and being set to 0.0 in labels with no predicted samples. Use `zero_division` parameter to control this behavior.\n",
            "  _warn_prf(average, modifier, msg_start, len(result))\n",
            "/usr/local/lib/python3.7/dist-packages/sklearn/metrics/_classification.py:1318: UndefinedMetricWarning: Precision and F-score are ill-defined and being set to 0.0 in labels with no predicted samples. Use `zero_division` parameter to control this behavior.\n",
            "  _warn_prf(average, modifier, msg_start, len(result))\n",
            "/usr/local/lib/python3.7/dist-packages/sklearn/metrics/_classification.py:1318: UndefinedMetricWarning: Precision and F-score are ill-defined and being set to 0.0 in labels with no predicted samples. Use `zero_division` parameter to control this behavior.\n",
            "  _warn_prf(average, modifier, msg_start, len(result))\n"
          ]
        }
      ]
    },
    {
      "cell_type": "code",
      "source": [
        "print('Square Euclidean Accuracy: {}%'.format(round(100*Euclid_count/len(df4), 2)))\n",
        "print(classification_report(y_test, Euclid_predictions, target_names=df4['Actual'].astype(str).unique()))"
      ],
      "metadata": {
        "colab": {
          "base_uri": "https://localhost:8080/"
        },
        "id": "cpg8Os5ZrqRD",
        "outputId": "7cdcc5ee-268d-4912-f4c8-d83623511693"
      },
      "execution_count": 79,
      "outputs": [
        {
          "output_type": "stream",
          "name": "stdout",
          "text": [
            "Square Euclidean Accuracy: 61.11%\n",
            "              precision    recall  f1-score   support\n",
            "\n",
            "           1       0.60      1.00      0.75         3\n",
            "           2       0.33      0.67      0.44         3\n",
            "           3       0.00      0.00      0.00         3\n",
            "           5       1.00      0.67      0.80         3\n",
            "           6       1.00      0.33      0.50         3\n",
            "           7       0.75      1.00      0.86         3\n",
            "\n",
            "    accuracy                           0.61        18\n",
            "   macro avg       0.61      0.61      0.56        18\n",
            "weighted avg       0.61      0.61      0.56        18\n",
            "\n"
          ]
        },
        {
          "output_type": "stream",
          "name": "stderr",
          "text": [
            "/usr/local/lib/python3.7/dist-packages/sklearn/metrics/_classification.py:1318: UndefinedMetricWarning: Precision and F-score are ill-defined and being set to 0.0 in labels with no predicted samples. Use `zero_division` parameter to control this behavior.\n",
            "  _warn_prf(average, modifier, msg_start, len(result))\n",
            "/usr/local/lib/python3.7/dist-packages/sklearn/metrics/_classification.py:1318: UndefinedMetricWarning: Precision and F-score are ill-defined and being set to 0.0 in labels with no predicted samples. Use `zero_division` parameter to control this behavior.\n",
            "  _warn_prf(average, modifier, msg_start, len(result))\n",
            "/usr/local/lib/python3.7/dist-packages/sklearn/metrics/_classification.py:1318: UndefinedMetricWarning: Precision and F-score are ill-defined and being set to 0.0 in labels with no predicted samples. Use `zero_division` parameter to control this behavior.\n",
            "  _warn_prf(average, modifier, msg_start, len(result))\n"
          ]
        }
      ]
    }
  ]
}